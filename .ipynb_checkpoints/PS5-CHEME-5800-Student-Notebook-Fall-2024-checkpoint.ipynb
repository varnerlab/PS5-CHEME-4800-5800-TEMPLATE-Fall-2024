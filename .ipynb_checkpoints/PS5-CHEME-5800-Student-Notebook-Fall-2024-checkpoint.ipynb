{
 "cells": [
  {
   "cell_type": "markdown",
   "id": "b2fd3d6b-cedb-4070-84db-9b1d09a0f271",
   "metadata": {},
   "source": [
    "# PS5: The Apples Versus Oranges Problem as a Markov Decision Process\n",
    "Problem set 5 (PS3) tests the hypothesis that the apples and oranges problem can be structured as a Markov Decision Process (MDP), where an optimal policy can be computed using value iteration. Toward this objective, there are two problems that we need to solve:\n",
    "\n",
    "* __Problem 1__: In this problem, we solve the apples and oranges problem subject to a budget constraint as a nonlinear programming problem, where our utility model is nonlinear. The optimal solution to this problem will be used as the terminal state for the MDP calculations\n",
    "* __Problem 2__: Construct an MDP problem encoding the apple and oranges decision and solve for the optimal policy function $\\pi$ using value iteration. In this problem, we enforce the budget constraint as a soft-wall constraint and use reward shaping to help the search."
   ]
  },
  {
   "cell_type": "markdown",
   "id": "bad5d878-10d4-4af8-85fa-21c55cde92fa",
   "metadata": {},
   "source": [
    "## Setup\n",
    "The computations in the problem set are enabled by several external `Julia` packages and custom codes the teaching team has developed to work with these packages. To include this code, we [include](https://docs.julialang.org/en/v1/manual/code-loading/) the `Include.jl` file):"
   ]
  },
  {
   "cell_type": "code",
   "execution_count": 3,
   "id": "25550134-a286-4aa1-8aee-19a7bd80d1d4",
   "metadata": {
    "tags": []
   },
   "outputs": [
    {
     "name": "stderr",
     "output_type": "stream",
     "text": [
      "\u001b[32m\u001b[1m  Activating\u001b[22m\u001b[39m project at `~/Desktop/julia_work/PS5-CHEME-4800-5800-TEMPLATE-Fall-2024`\n",
      "\u001b[32m\u001b[1m    Updating\u001b[22m\u001b[39m `~/Desktop/julia_work/PS5-CHEME-4800-5800-TEMPLATE-Fall-2024/Project.toml`\n",
      "  \u001b[90m[5ae59095] \u001b[39m\u001b[92m+ Colors v0.13.0\u001b[39m\n",
      "  \u001b[90m[4076af6c] \u001b[39m\u001b[92m+ JuMP v1.23.3\u001b[39m\n",
      "  \u001b[90m[2621e9c9] \u001b[39m\u001b[92m+ MadNLP v0.8.4\u001b[39m\n",
      "  \u001b[90m[91a5bcdd] \u001b[39m\u001b[92m+ Plots v1.40.8\u001b[39m\n",
      "\u001b[32m\u001b[1m    Updating\u001b[22m\u001b[39m `~/Desktop/julia_work/PS5-CHEME-4800-5800-TEMPLATE-Fall-2024/Manifest.toml`\n",
      "  \u001b[90m[14f7f29c] \u001b[39m\u001b[92m+ AMD v0.5.3\u001b[39m\n",
      "  \u001b[90m[6e4b80f9] \u001b[39m\u001b[92m+ BenchmarkTools v1.5.0\u001b[39m\n",
      "  \u001b[90m[d1d4a3ce] \u001b[39m\u001b[92m+ BitFlags v0.1.9\u001b[39m\n",
      "  \u001b[90m[523fee87] \u001b[39m\u001b[92m+ CodecBzip2 v0.8.4\u001b[39m\n",
      "  \u001b[90m[944b1d66] \u001b[39m\u001b[92m+ CodecZlib v0.7.6\u001b[39m\n",
      "  \u001b[90m[35d6a980] \u001b[39m\u001b[92m+ ColorSchemes v3.27.0\u001b[39m\n",
      "  \u001b[90m[3da002f7] \u001b[39m\u001b[92m+ ColorTypes v0.12.0\u001b[39m\n",
      "\u001b[33m⌅\u001b[39m \u001b[90m[c3611d14] \u001b[39m\u001b[92m+ ColorVectorSpace v0.10.1\u001b[39m\n",
      "  \u001b[90m[5ae59095] \u001b[39m\u001b[92m+ Colors v0.13.0\u001b[39m\n",
      "  \u001b[90m[bbf7d656] \u001b[39m\u001b[92m+ CommonSubexpressions v0.3.1\u001b[39m\n",
      "  \u001b[90m[34da2185] \u001b[39m\u001b[92m+ Compat v4.16.0\u001b[39m\n",
      "  \u001b[90m[f0e56b4a] \u001b[39m\u001b[92m+ ConcurrentUtilities v2.4.2\u001b[39m\n",
      "  \u001b[90m[d38c429a] \u001b[39m\u001b[92m+ Contour v0.6.3\u001b[39m\n",
      "  \u001b[90m[9a962f9c] \u001b[39m\u001b[92m+ DataAPI v1.16.0\u001b[39m\n",
      "  \u001b[90m[864edb3b] \u001b[39m\u001b[92m+ DataStructures v0.18.20\u001b[39m\n",
      "  \u001b[90m[8bb1440f] \u001b[39m\u001b[92m+ DelimitedFiles v1.9.1\u001b[39m\n",
      "  \u001b[90m[163ba53b] \u001b[39m\u001b[92m+ DiffResults v1.1.0\u001b[39m\n",
      "  \u001b[90m[b552c78f] \u001b[39m\u001b[92m+ DiffRules v1.15.1\u001b[39m\n",
      "  \u001b[90m[ffbed154] \u001b[39m\u001b[92m+ DocStringExtensions v0.9.3\u001b[39m\n",
      "  \u001b[90m[460bff9d] \u001b[39m\u001b[92m+ ExceptionUnwrapping v0.1.10\u001b[39m\n",
      "  \u001b[90m[e2ba6199] \u001b[39m\u001b[92m+ ExprTools v0.1.10\u001b[39m\n",
      "  \u001b[90m[c87230d0] \u001b[39m\u001b[92m+ FFMPEG v0.4.2\u001b[39m\n",
      "  \u001b[90m[9aa1b823] \u001b[39m\u001b[92m+ FastClosures v0.3.2\u001b[39m\n",
      "  \u001b[90m[53c48c17] \u001b[39m\u001b[92m+ FixedPointNumbers v0.8.5\u001b[39m\n",
      "  \u001b[90m[1fa38f19] \u001b[39m\u001b[92m+ Format v1.3.7\u001b[39m\n",
      "  \u001b[90m[f6369f11] \u001b[39m\u001b[92m+ ForwardDiff v0.10.37\u001b[39m\n",
      "  \u001b[90m[28b8d3ca] \u001b[39m\u001b[92m+ GR v0.73.8\u001b[39m\n",
      "  \u001b[90m[42e2da0e] \u001b[39m\u001b[92m+ Grisu v1.0.2\u001b[39m\n",
      "  \u001b[90m[cd3eb016] \u001b[39m\u001b[92m+ HTTP v1.10.9\u001b[39m\n",
      "  \u001b[90m[92d709cd] \u001b[39m\u001b[92m+ IrrationalConstants v0.2.2\u001b[39m\n",
      "  \u001b[90m[1019f520] \u001b[39m\u001b[92m+ JLFzf v0.1.8\u001b[39m\n",
      "  \u001b[90m[692b3bcd] \u001b[39m\u001b[92m+ JLLWrappers v1.6.1\u001b[39m\n",
      "  \u001b[90m[682c06a0] \u001b[39m\u001b[92m+ JSON v0.21.4\u001b[39m\n",
      "  \u001b[90m[4076af6c] \u001b[39m\u001b[92m+ JuMP v1.23.3\u001b[39m\n",
      "  \u001b[90m[40e66cde] \u001b[39m\u001b[92m+ LDLFactorizations v0.10.1\u001b[39m\n",
      "  \u001b[90m[b964fa9f] \u001b[39m\u001b[92m+ LaTeXStrings v1.4.0\u001b[39m\n",
      "  \u001b[90m[23fbe1c1] \u001b[39m\u001b[92m+ Latexify v0.16.5\u001b[39m\n",
      "  \u001b[90m[5c8ed15e] \u001b[39m\u001b[92m+ LinearOperators v2.9.0\u001b[39m\n",
      "  \u001b[90m[2ab3a3ac] \u001b[39m\u001b[92m+ LogExpFunctions v0.3.28\u001b[39m\n",
      "  \u001b[90m[e6f89c97] \u001b[39m\u001b[92m+ LoggingExtras v1.1.0\u001b[39m\n",
      "  \u001b[90m[1914dd2f] \u001b[39m\u001b[92m+ MacroTools v0.5.13\u001b[39m\n",
      "  \u001b[90m[2621e9c9] \u001b[39m\u001b[92m+ MadNLP v0.8.4\u001b[39m\n",
      "  \u001b[90m[b8f27783] \u001b[39m\u001b[92m+ MathOptInterface v1.34.0\u001b[39m\n",
      "  \u001b[90m[739be429] \u001b[39m\u001b[92m+ MbedTLS v1.1.9\u001b[39m\n",
      "  \u001b[90m[442fdcdd] \u001b[39m\u001b[92m+ Measures v0.3.2\u001b[39m\n",
      "  \u001b[90m[e1d29d7a] \u001b[39m\u001b[92m+ Missings v1.2.0\u001b[39m\n",
      "  \u001b[90m[d8a4904e] \u001b[39m\u001b[92m+ MutableArithmetics v1.5.2\u001b[39m\n",
      "  \u001b[90m[a4795742] \u001b[39m\u001b[92m+ NLPModels v0.21.3\u001b[39m\n",
      "  \u001b[90m[77ba4419] \u001b[39m\u001b[92m+ NaNMath v1.0.2\u001b[39m\n",
      "  \u001b[90m[4d8831e6] \u001b[39m\u001b[92m+ OpenSSL v1.4.3\u001b[39m\n",
      "  \u001b[90m[bac558e1] \u001b[39m\u001b[92m+ OrderedCollections v1.6.3\u001b[39m\n",
      "  \u001b[90m[69de0a69] \u001b[39m\u001b[92m+ Parsers v2.8.1\u001b[39m\n",
      "  \u001b[90m[b98c9c47] \u001b[39m\u001b[92m+ Pipe v1.3.0\u001b[39m\n",
      "  \u001b[90m[ccf2f8ad] \u001b[39m\u001b[92m+ PlotThemes v3.3.0\u001b[39m\n",
      "  \u001b[90m[995b91a9] \u001b[39m\u001b[92m+ PlotUtils v1.4.3\u001b[39m\n",
      "  \u001b[90m[91a5bcdd] \u001b[39m\u001b[92m+ Plots v1.40.8\u001b[39m\n",
      "  \u001b[90m[aea7be01] \u001b[39m\u001b[92m+ PrecompileTools v1.2.1\u001b[39m\n",
      "  \u001b[90m[21216c6a] \u001b[39m\u001b[92m+ Preferences v1.4.3\u001b[39m\n",
      "  \u001b[90m[3cdcf5f2] \u001b[39m\u001b[92m+ RecipesBase v1.3.4\u001b[39m\n",
      "  \u001b[90m[01d81517] \u001b[39m\u001b[92m+ RecipesPipeline v0.6.12\u001b[39m\n",
      "  \u001b[90m[189a3867] \u001b[39m\u001b[92m+ Reexport v1.2.2\u001b[39m\n",
      "  \u001b[90m[05181044] \u001b[39m\u001b[92m+ RelocatableFolders v1.0.1\u001b[39m\n",
      "  \u001b[90m[ae029012] \u001b[39m\u001b[92m+ Requires v1.3.0\u001b[39m\n",
      "  \u001b[90m[6c6a2e73] \u001b[39m\u001b[92m+ Scratch v1.2.1\u001b[39m\n",
      "  \u001b[90m[992d4aef] \u001b[39m\u001b[92m+ Showoff v1.0.3\u001b[39m\n",
      "  \u001b[90m[777ac1f9] \u001b[39m\u001b[92m+ SimpleBufferStream v1.2.0\u001b[39m\n",
      "  \u001b[90m[ff4d7338] \u001b[39m\u001b[92m+ SolverCore v0.3.8\u001b[39m\n",
      "  \u001b[90m[a2af1166] \u001b[39m\u001b[92m+ SortingAlgorithms v1.2.1\u001b[39m\n",
      "  \u001b[90m[276daf66] \u001b[39m\u001b[92m+ SpecialFunctions v2.4.0\u001b[39m\n",
      "  \u001b[90m[860ef19b] \u001b[39m\u001b[92m+ StableRNGs v1.0.2\u001b[39m\n",
      "  \u001b[90m[1e83bf80] \u001b[39m\u001b[92m+ StaticArraysCore v1.4.3\u001b[39m\n",
      "  \u001b[90m[10745b16] \u001b[39m\u001b[92m+ Statistics v1.11.1\u001b[39m\n",
      "  \u001b[90m[82ae8749] \u001b[39m\u001b[92m+ StatsAPI v1.7.0\u001b[39m\n",
      "  \u001b[90m[2913bbd2] \u001b[39m\u001b[92m+ StatsBase v0.34.3\u001b[39m\n",
      "  \u001b[90m[62fd8b95] \u001b[39m\u001b[92m+ TensorCore v0.1.1\u001b[39m\n",
      "  \u001b[90m[a759f4b9] \u001b[39m\u001b[92m+ TimerOutputs v0.5.25\u001b[39m\n",
      "  \u001b[90m[3bb67fe8] \u001b[39m\u001b[92m+ TranscodingStreams v0.11.3\u001b[39m\n",
      "  \u001b[90m[5c2747f8] \u001b[39m\u001b[92m+ URIs v1.5.1\u001b[39m\n",
      "  \u001b[90m[1cfade01] \u001b[39m\u001b[92m+ UnicodeFun v0.4.1\u001b[39m\n",
      "  \u001b[90m[1986cc42] \u001b[39m\u001b[92m+ Unitful v1.21.0\u001b[39m\n",
      "  \u001b[90m[45397f5d] \u001b[39m\u001b[92m+ UnitfulLatexify v1.6.4\u001b[39m\n",
      "  \u001b[90m[41fe7b60] \u001b[39m\u001b[92m+ Unzip v0.2.0\u001b[39m\n",
      "  \u001b[90m[6e34b625] \u001b[39m\u001b[92m+ Bzip2_jll v1.0.8+2\u001b[39m\n",
      "  \u001b[90m[83423d85] \u001b[39m\u001b[92m+ Cairo_jll v1.18.2+1\u001b[39m\n",
      "  \u001b[90m[ee1fde0b] \u001b[39m\u001b[92m+ Dbus_jll v1.14.10+0\u001b[39m\n",
      "  \u001b[90m[2702e6a9] \u001b[39m\u001b[92m+ EpollShim_jll v0.0.20230411+0\u001b[39m\n",
      "  \u001b[90m[2e619515] \u001b[39m\u001b[92m+ Expat_jll v2.6.2+0\u001b[39m\n",
      "\u001b[33m⌅\u001b[39m \u001b[90m[b22a6f82] \u001b[39m\u001b[92m+ FFMPEG_jll v4.4.4+1\u001b[39m\n",
      "  \u001b[90m[a3f928ae] \u001b[39m\u001b[92m+ Fontconfig_jll v2.13.96+0\u001b[39m\n",
      "  \u001b[90m[d7e528f0] \u001b[39m\u001b[92m+ FreeType2_jll v2.13.2+0\u001b[39m\n",
      "  \u001b[90m[559328eb] \u001b[39m\u001b[92m+ FriBidi_jll v1.0.14+0\u001b[39m\n",
      "  \u001b[90m[0656b61e] \u001b[39m\u001b[92m+ GLFW_jll v3.4.0+1\u001b[39m\n",
      "  \u001b[90m[d2c73de3] \u001b[39m\u001b[92m+ GR_jll v0.73.8+0\u001b[39m\n",
      "  \u001b[90m[78b55507] \u001b[39m\u001b[92m+ Gettext_jll v0.21.0+0\u001b[39m\n",
      "  \u001b[90m[7746bdde] \u001b[39m\u001b[92m+ Glib_jll v2.80.5+0\u001b[39m\n",
      "  \u001b[90m[3b182d85] \u001b[39m\u001b[92m+ Graphite2_jll v1.3.14+0\u001b[39m\n",
      "  \u001b[90m[2e76f6c2] \u001b[39m\u001b[92m+ HarfBuzz_jll v8.3.1+0\u001b[39m\n",
      "  \u001b[90m[aacddb02] \u001b[39m\u001b[92m+ JpegTurbo_jll v3.0.4+0\u001b[39m\n",
      "  \u001b[90m[c1c5ebd0] \u001b[39m\u001b[92m+ LAME_jll v3.100.2+0\u001b[39m\n",
      "  \u001b[90m[88015f11] \u001b[39m\u001b[92m+ LERC_jll v4.0.0+0\u001b[39m\n",
      "  \u001b[90m[1d63c593] \u001b[39m\u001b[92m+ LLVMOpenMP_jll v18.1.7+0\u001b[39m\n",
      "  \u001b[90m[dd4b983a] \u001b[39m\u001b[92m+ LZO_jll v2.10.2+1\u001b[39m\n",
      "\u001b[33m⌅\u001b[39m \u001b[90m[e9f186c6] \u001b[39m\u001b[92m+ Libffi_jll v3.2.2+1\u001b[39m\n",
      "  \u001b[90m[d4300ac3] \u001b[39m\u001b[92m+ Libgcrypt_jll v1.11.0+0\u001b[39m\n",
      "  \u001b[90m[7e76a0d4] \u001b[39m\u001b[92m+ Libglvnd_jll v1.6.0+0\u001b[39m\n",
      "  \u001b[90m[7add5ba3] \u001b[39m\u001b[92m+ Libgpg_error_jll v1.50.0+0\u001b[39m\n",
      "  \u001b[90m[94ce4f54] \u001b[39m\u001b[92m+ Libiconv_jll v1.17.0+1\u001b[39m\n",
      "  \u001b[90m[4b2f31a3] \u001b[39m\u001b[92m+ Libmount_jll v2.40.1+0\u001b[39m\n",
      "  \u001b[90m[89763e89] \u001b[39m\u001b[92m+ Libtiff_jll v4.7.0+0\u001b[39m\n",
      "  \u001b[90m[38a345b3] \u001b[39m\u001b[92m+ Libuuid_jll v2.40.1+0\u001b[39m\n",
      "  \u001b[90m[e7412a2a] \u001b[39m\u001b[92m+ Ogg_jll v1.3.5+1\u001b[39m\n",
      "  \u001b[90m[458c3c95] \u001b[39m\u001b[92m+ OpenSSL_jll v3.0.15+1\u001b[39m\n",
      "  \u001b[90m[efe28fd5] \u001b[39m\u001b[92m+ OpenSpecFun_jll v0.5.5+0\u001b[39m\n",
      "  \u001b[90m[91d4177d] \u001b[39m\u001b[92m+ Opus_jll v1.3.3+0\u001b[39m\n",
      "  \u001b[90m[36c8627f] \u001b[39m\u001b[92m+ Pango_jll v1.54.1+0\u001b[39m\n",
      "  \u001b[90m[30392449] \u001b[39m\u001b[92m+ Pixman_jll v0.43.4+0\u001b[39m\n",
      "  \u001b[90m[c0090381] \u001b[39m\u001b[92m+ Qt6Base_jll v6.7.1+1\u001b[39m\n",
      "  \u001b[90m[629bc702] \u001b[39m\u001b[92m+ Qt6Declarative_jll v6.7.1+2\u001b[39m\n",
      "  \u001b[90m[ce943373] \u001b[39m\u001b[92m+ Qt6ShaderTools_jll v6.7.1+1\u001b[39m\n",
      "  \u001b[90m[e99dba38] \u001b[39m\u001b[92m+ Qt6Wayland_jll v6.7.1+1\u001b[39m\n",
      "  \u001b[90m[a44049a8] \u001b[39m\u001b[92m+ Vulkan_Loader_jll v1.3.243+0\u001b[39m\n",
      "  \u001b[90m[a2964d1f] \u001b[39m\u001b[92m+ Wayland_jll v1.21.0+1\u001b[39m\n",
      "  \u001b[90m[2381bf8a] \u001b[39m\u001b[92m+ Wayland_protocols_jll v1.31.0+0\u001b[39m\n",
      "  \u001b[90m[02c8fc9c] \u001b[39m\u001b[92m+ XML2_jll v2.13.4+0\u001b[39m\n",
      "  \u001b[90m[aed1982a] \u001b[39m\u001b[92m+ XSLT_jll v1.1.41+0\u001b[39m\n",
      "  \u001b[90m[ffd25f8a] \u001b[39m\u001b[92m+ XZ_jll v5.6.3+0\u001b[39m\n",
      "  \u001b[90m[f67eecfb] \u001b[39m\u001b[92m+ Xorg_libICE_jll v1.1.1+0\u001b[39m\n",
      "  \u001b[90m[c834827a] \u001b[39m\u001b[92m+ Xorg_libSM_jll v1.2.4+0\u001b[39m\n",
      "  \u001b[90m[4f6342f7] \u001b[39m\u001b[92m+ Xorg_libX11_jll v1.8.6+0\u001b[39m\n",
      "  \u001b[90m[0c0b7dd1] \u001b[39m\u001b[92m+ Xorg_libXau_jll v1.0.11+0\u001b[39m\n",
      "  \u001b[90m[935fb764] \u001b[39m\u001b[92m+ Xorg_libXcursor_jll v1.2.0+4\u001b[39m\n",
      "  \u001b[90m[a3789734] \u001b[39m\u001b[92m+ Xorg_libXdmcp_jll v1.1.4+0\u001b[39m\n",
      "  \u001b[90m[1082639a] \u001b[39m\u001b[92m+ Xorg_libXext_jll v1.3.6+0\u001b[39m\n",
      "  \u001b[90m[d091e8ba] \u001b[39m\u001b[92m+ Xorg_libXfixes_jll v5.0.3+4\u001b[39m\n",
      "  \u001b[90m[a51aa0fd] \u001b[39m\u001b[92m+ Xorg_libXi_jll v1.7.10+4\u001b[39m\n",
      "  \u001b[90m[d1454406] \u001b[39m\u001b[92m+ Xorg_libXinerama_jll v1.1.4+4\u001b[39m\n",
      "  \u001b[90m[ec84b674] \u001b[39m\u001b[92m+ Xorg_libXrandr_jll v1.5.2+4\u001b[39m\n",
      "  \u001b[90m[ea2f1a96] \u001b[39m\u001b[92m+ Xorg_libXrender_jll v0.9.11+0\u001b[39m\n",
      "  \u001b[90m[14d82f49] \u001b[39m\u001b[92m+ Xorg_libpthread_stubs_jll v0.1.1+0\u001b[39m\n",
      "  \u001b[90m[c7cfdc94] \u001b[39m\u001b[92m+ Xorg_libxcb_jll v1.17.0+0\u001b[39m\n",
      "  \u001b[90m[cc61e674] \u001b[39m\u001b[92m+ Xorg_libxkbfile_jll v1.1.2+0\u001b[39m\n",
      "  \u001b[90m[e920d4aa] \u001b[39m\u001b[92m+ Xorg_xcb_util_cursor_jll v0.1.4+0\u001b[39m\n",
      "  \u001b[90m[12413925] \u001b[39m\u001b[92m+ Xorg_xcb_util_image_jll v0.4.0+1\u001b[39m\n",
      "  \u001b[90m[2def613f] \u001b[39m\u001b[92m+ Xorg_xcb_util_jll v0.4.0+1\u001b[39m\n",
      "  \u001b[90m[975044d2] \u001b[39m\u001b[92m+ Xorg_xcb_util_keysyms_jll v0.4.0+1\u001b[39m\n",
      "  \u001b[90m[0d47668e] \u001b[39m\u001b[92m+ Xorg_xcb_util_renderutil_jll v0.3.9+1\u001b[39m\n",
      "  \u001b[90m[c22f9ab0] \u001b[39m\u001b[92m+ Xorg_xcb_util_wm_jll v0.4.1+1\u001b[39m\n",
      "  \u001b[90m[35661453] \u001b[39m\u001b[92m+ Xorg_xkbcomp_jll v1.4.6+0\u001b[39m\n",
      "  \u001b[90m[33bec58e] \u001b[39m\u001b[92m+ Xorg_xkeyboard_config_jll v2.39.0+0\u001b[39m\n",
      "  \u001b[90m[c5fb5394] \u001b[39m\u001b[92m+ Xorg_xtrans_jll v1.5.0+0\u001b[39m\n",
      "  \u001b[90m[3161d3a3] \u001b[39m\u001b[92m+ Zstd_jll v1.5.6+1\u001b[39m\n",
      "  \u001b[90m[35ca27e7] \u001b[39m\u001b[92m+ eudev_jll v3.2.9+0\u001b[39m\n",
      "  \u001b[90m[214eeab7] \u001b[39m\u001b[92m+ fzf_jll v0.53.0+0\u001b[39m\n",
      "  \u001b[90m[1a1c6b14] \u001b[39m\u001b[92m+ gperf_jll v3.1.1+0\u001b[39m\n",
      "  \u001b[90m[a4ae2306] \u001b[39m\u001b[92m+ libaom_jll v3.9.0+0\u001b[39m\n",
      "  \u001b[90m[0ac62f75] \u001b[39m\u001b[92m+ libass_jll v0.15.2+0\u001b[39m\n",
      "  \u001b[90m[1183f4f0] \u001b[39m\u001b[92m+ libdecor_jll v0.2.2+0\u001b[39m\n",
      "  \u001b[90m[2db6ffa8] \u001b[39m\u001b[92m+ libevdev_jll v1.11.0+0\u001b[39m\n",
      "  \u001b[90m[f638f0a6] \u001b[39m\u001b[92m+ libfdk_aac_jll v2.0.3+0\u001b[39m\n",
      "  \u001b[90m[36db933b] \u001b[39m\u001b[92m+ libinput_jll v1.18.0+0\u001b[39m\n",
      "  \u001b[90m[b53b4c65] \u001b[39m\u001b[92m+ libpng_jll v1.6.44+0\u001b[39m\n",
      "  \u001b[90m[f27f6e37] \u001b[39m\u001b[92m+ libvorbis_jll v1.3.7+2\u001b[39m\n",
      "  \u001b[90m[009596ad] \u001b[39m\u001b[92m+ mtdev_jll v1.1.6+0\u001b[39m\n",
      "\u001b[33m⌅\u001b[39m \u001b[90m[1270edf5] \u001b[39m\u001b[92m+ x264_jll v2021.5.5+0\u001b[39m\n",
      "\u001b[33m⌅\u001b[39m \u001b[90m[dfaa095f] \u001b[39m\u001b[92m+ x265_jll v3.5.0+0\u001b[39m\n",
      "  \u001b[90m[d8fb68d0] \u001b[39m\u001b[92m+ xkbcommon_jll v1.4.1+1\u001b[39m\n",
      "  \u001b[90m[0dad84c5] \u001b[39m\u001b[92m+ ArgTools v1.1.2\u001b[39m\n",
      "  \u001b[90m[56f22d72] \u001b[39m\u001b[92m+ Artifacts v1.11.0\u001b[39m\n",
      "  \u001b[90m[2a0f44e3] \u001b[39m\u001b[92m+ Base64 v1.11.0\u001b[39m\n",
      "  \u001b[90m[ade2ca70] \u001b[39m\u001b[92m+ Dates v1.11.0\u001b[39m\n",
      "  \u001b[90m[f43a241f] \u001b[39m\u001b[92m+ Downloads v1.6.0\u001b[39m\n",
      "  \u001b[90m[7b1f6079] \u001b[39m\u001b[92m+ FileWatching v1.11.0\u001b[39m\n",
      "  \u001b[90m[b77e0a4c] \u001b[39m\u001b[92m+ InteractiveUtils v1.11.0\u001b[39m\n",
      "  \u001b[90m[b27032c2] \u001b[39m\u001b[92m+ LibCURL v0.6.4\u001b[39m\n",
      "  \u001b[90m[76f85450] \u001b[39m\u001b[92m+ LibGit2 v1.11.0\u001b[39m\n",
      "  \u001b[90m[8f399da3] \u001b[39m\u001b[92m+ Libdl v1.11.0\u001b[39m\n",
      "  \u001b[90m[37e2e46d] \u001b[39m\u001b[92m+ LinearAlgebra v1.11.0\u001b[39m\n",
      "  \u001b[90m[56ddb016] \u001b[39m\u001b[92m+ Logging v1.11.0\u001b[39m\n",
      "  \u001b[90m[d6f4376e] \u001b[39m\u001b[92m+ Markdown v1.11.0\u001b[39m\n",
      "  \u001b[90m[a63ad114] \u001b[39m\u001b[92m+ Mmap v1.11.0\u001b[39m\n",
      "  \u001b[90m[ca575930] \u001b[39m\u001b[92m+ NetworkOptions v1.2.0\u001b[39m\n",
      "  \u001b[90m[44cfe95a] \u001b[39m\u001b[92m+ Pkg v1.11.0\u001b[39m\n",
      "  \u001b[90m[de0858da] \u001b[39m\u001b[92m+ Printf v1.11.0\u001b[39m\n",
      "  \u001b[90m[9abbd945] \u001b[39m\u001b[92m+ Profile v1.11.0\u001b[39m\n",
      "  \u001b[90m[3fa0cd96] \u001b[39m\u001b[92m+ REPL v1.11.0\u001b[39m\n",
      "  \u001b[90m[9a3f8284] \u001b[39m\u001b[92m+ Random v1.11.0\u001b[39m\n",
      "  \u001b[90m[ea8e919c] \u001b[39m\u001b[92m+ SHA v0.7.0\u001b[39m\n",
      "  \u001b[90m[9e88b42a] \u001b[39m\u001b[92m+ Serialization v1.11.0\u001b[39m\n",
      "  \u001b[90m[6462fe0b] \u001b[39m\u001b[92m+ Sockets v1.11.0\u001b[39m\n",
      "  \u001b[90m[2f01184e] \u001b[39m\u001b[92m+ SparseArrays v1.11.0\u001b[39m\n",
      "  \u001b[90m[f489334b] \u001b[39m\u001b[92m+ StyledStrings v1.11.0\u001b[39m\n",
      "  \u001b[90m[4607b0f0] \u001b[39m\u001b[92m+ SuiteSparse\u001b[39m\n",
      "  \u001b[90m[fa267f1f] \u001b[39m\u001b[92m+ TOML v1.0.3\u001b[39m\n",
      "  \u001b[90m[a4e569a6] \u001b[39m\u001b[92m+ Tar v1.10.0\u001b[39m\n",
      "  \u001b[90m[8dfed614] \u001b[39m\u001b[92m+ Test v1.11.0\u001b[39m\n",
      "  \u001b[90m[cf7118a7] \u001b[39m\u001b[92m+ UUIDs v1.11.0\u001b[39m\n",
      "  \u001b[90m[4ec0a83e] \u001b[39m\u001b[92m+ Unicode v1.11.0\u001b[39m\n",
      "  \u001b[90m[e66e0078] \u001b[39m\u001b[92m+ CompilerSupportLibraries_jll v1.1.1+0\u001b[39m\n",
      "  \u001b[90m[deac9b47] \u001b[39m\u001b[92m+ LibCURL_jll v8.6.0+0\u001b[39m\n",
      "  \u001b[90m[e37daf67] \u001b[39m\u001b[92m+ LibGit2_jll v1.7.2+0\u001b[39m\n",
      "  \u001b[90m[29816b5a] \u001b[39m\u001b[92m+ LibSSH2_jll v1.11.0+1\u001b[39m\n",
      "  \u001b[90m[c8ffd9c3] \u001b[39m\u001b[92m+ MbedTLS_jll v2.28.6+0\u001b[39m\n",
      "  \u001b[90m[14a3606d] \u001b[39m\u001b[92m+ MozillaCACerts_jll v2023.12.12\u001b[39m\n",
      "  \u001b[90m[4536629a] \u001b[39m\u001b[92m+ OpenBLAS_jll v0.3.27+1\u001b[39m\n",
      "  \u001b[90m[05823500] \u001b[39m\u001b[92m+ OpenLibm_jll v0.8.1+2\u001b[39m\n",
      "  \u001b[90m[efcefdf7] \u001b[39m\u001b[92m+ PCRE2_jll v10.42.0+1\u001b[39m\n",
      "  \u001b[90m[bea87d4a] \u001b[39m\u001b[92m+ SuiteSparse_jll v7.7.0+0\u001b[39m\n",
      "  \u001b[90m[83775a58] \u001b[39m\u001b[92m+ Zlib_jll v1.2.13+1\u001b[39m\n",
      "  \u001b[90m[8e850b90] \u001b[39m\u001b[92m+ libblastrampoline_jll v5.11.0+0\u001b[39m\n",
      "  \u001b[90m[8e850ede] \u001b[39m\u001b[92m+ nghttp2_jll v1.59.0+0\u001b[39m\n",
      "  \u001b[90m[3f19e933] \u001b[39m\u001b[92m+ p7zip_jll v17.4.0+2\u001b[39m\n",
      "\u001b[36m\u001b[1m        Info\u001b[22m\u001b[39m Packages marked with \u001b[33m⌅\u001b[39m have new versions available but compatibility constraints restrict them from upgrading. To see why use `status --outdated -m`\n",
      "\u001b[92m\u001b[1mPrecompiling\u001b[22m\u001b[39m project...\n",
      "    912.8 ms\u001b[32m  ✓ \u001b[39m\u001b[90mSolverCore\u001b[39m\n",
      "   2452.5 ms\u001b[32m  ✓ \u001b[39mMadNLP\n",
      "   2032.9 ms\u001b[32m  ✓ \u001b[39mMadNLP → MadNLPMOI\n",
      "  3 dependencies successfully precompiled in 6 seconds. 208 already precompiled.\n",
      "  \u001b[33m1\u001b[39m dependency had output during precompilation:\u001b[33m\n",
      "┌ \u001b[39mMadNLP\u001b[33m\n",
      "│  \u001b[39m\u001b[33m\u001b[1m┌ \u001b[22m\u001b[39m\u001b[33m\u001b[1mWarning: \u001b[22m\u001b[39mReplacing docs for `SolverCore.solve! :: Union{}` in module `MadNLP`\u001b[33m\n",
      "│  \u001b[39m\u001b[33m\u001b[1m└ \u001b[22m\u001b[39m\u001b[90m@ Base.Docs docs/Docs.jl:243\u001b[39m\u001b[33m\n",
      "└  \u001b[39m\n",
      "\u001b[32m\u001b[1m    Updating\u001b[22m\u001b[39m registry at `~/.julia/registries/General.toml`\n",
      "\u001b[32m\u001b[1m   Installed\u001b[22m\u001b[39m ColorVectorSpace ─ v0.11.0\n",
      "\u001b[32m\u001b[1m   Installed\u001b[22m\u001b[39m HTTP ───────────── v1.10.10\n",
      "\u001b[32m\u001b[1m   Installed\u001b[22m\u001b[39m JuMP ───────────── v1.23.4\n",
      "\u001b[32m\u001b[1m   Installed\u001b[22m\u001b[39m ForwardDiff ────── v0.10.38\n",
      "\u001b[32m\u001b[1m   Installed\u001b[22m\u001b[39m ColorSchemes ───── v3.27.1\n",
      "\u001b[32m\u001b[1m    Updating\u001b[22m\u001b[39m `~/Desktop/julia_work/PS5-CHEME-4800-5800-TEMPLATE-Fall-2024/Project.toml`\n",
      "  \u001b[90m[4076af6c] \u001b[39m\u001b[93m↑ JuMP v1.23.3 ⇒ v1.23.4\u001b[39m\n",
      "\u001b[32m\u001b[1m    Updating\u001b[22m\u001b[39m `~/Desktop/julia_work/PS5-CHEME-4800-5800-TEMPLATE-Fall-2024/Manifest.toml`\n",
      "  \u001b[90m[35d6a980] \u001b[39m\u001b[93m↑ ColorSchemes v3.27.0 ⇒ v3.27.1\u001b[39m\n",
      "  \u001b[90m[c3611d14] \u001b[39m\u001b[93m↑ ColorVectorSpace v0.10.1 ⇒ v0.11.0\u001b[39m\n",
      "  \u001b[90m[f6369f11] \u001b[39m\u001b[93m↑ ForwardDiff v0.10.37 ⇒ v0.10.38\u001b[39m\n",
      "  \u001b[90m[cd3eb016] \u001b[39m\u001b[93m↑ HTTP v1.10.9 ⇒ v1.10.10\u001b[39m\n",
      "  \u001b[90m[4076af6c] \u001b[39m\u001b[93m↑ JuMP v1.23.3 ⇒ v1.23.4\u001b[39m\n",
      "\u001b[92m\u001b[1mPrecompiling\u001b[22m\u001b[39m project...\n",
      "   1131.2 ms\u001b[32m  ✓ \u001b[39m\u001b[90mColorVectorSpace\u001b[39m\n",
      "    693.4 ms\u001b[32m  ✓ \u001b[39m\u001b[90mColorVectorSpace → SpecialFunctionsExt\u001b[39m\n",
      "   2018.0 ms\u001b[32m  ✓ \u001b[39m\u001b[90mHTTP\u001b[39m\n",
      "   2029.9 ms\u001b[32m  ✓ \u001b[39m\u001b[90mForwardDiff\u001b[39m\n",
      "   2112.1 ms\u001b[32m  ✓ \u001b[39m\u001b[90mColorSchemes\u001b[39m\n",
      "   5046.2 ms\u001b[32m  ✓ \u001b[39m\u001b[90mPlotUtils\u001b[39m\n",
      "   1820.5 ms\u001b[32m  ✓ \u001b[39m\u001b[90mPlotThemes\u001b[39m\n",
      "   2341.2 ms\u001b[32m  ✓ \u001b[39m\u001b[90mRecipesPipeline\u001b[39m\n",
      "  38747.3 ms\u001b[32m  ✓ \u001b[39m\u001b[90mMathOptInterface\u001b[39m\n",
      "   2889.0 ms\u001b[32m  ✓ \u001b[39mMadNLP → MadNLPMOI\n",
      "  32261.1 ms\u001b[32m  ✓ \u001b[39mPlots\n",
      "   2790.6 ms\u001b[32m  ✓ \u001b[39mPlots → UnitfulExt\n",
      "  10337.2 ms\u001b[32m  ✓ \u001b[39mJuMP\n",
      "  13 dependencies successfully precompiled in 51 seconds. 198 already precompiled.\n",
      "\u001b[36m\u001b[1m[ \u001b[22m\u001b[39m\u001b[36m\u001b[1mInfo: \u001b[22m\u001b[39mPrecompiling JuMP [4076af6c-e467-56ae-b986-b466b2749572] (cache misses: wrong dep version loaded (12), wrong source (6), invalid header (2))\n",
      "\u001b[36m\u001b[1m[ \u001b[22m\u001b[39m\u001b[36m\u001b[1mInfo: \u001b[22m\u001b[39mPrecompiling MadNLPMOI [70d20653-bdc9-5c58-8b4a-ee87e3fd23af] (cache misses: wrong dep version loaded (2))\n",
      "\u001b[36m\u001b[1m[ \u001b[22m\u001b[39m\u001b[36m\u001b[1mInfo: \u001b[22m\u001b[39mPrecompiling Plots [91a5bcdd-55d7-5caf-9e0b-520d859cae80] (cache misses: wrong dep version loaded (14))\n",
      "\u001b[36m\u001b[1m[ \u001b[22m\u001b[39m\u001b[36m\u001b[1mInfo: \u001b[22m\u001b[39mPrecompiling SpecialFunctionsExt [997ecda8-951a-5f50-90ea-61382e97704b] (cache misses: wrong dep version loaded (8), invalid header (4))\n",
      "\u001b[36m\u001b[1m[ \u001b[22m\u001b[39m\u001b[36m\u001b[1mInfo: \u001b[22m\u001b[39mPrecompiling IJuliaExt [2f4121a4-3b3a-5ce6-9c5e-1f2673ce168a] (cache misses: wrong dep version loaded (20))\n"
     ]
    }
   ],
   "source": [
    "include(\"Include.jl\");"
   ]
  },
  {
   "cell_type": "markdown",
   "id": "e777da94-8a5f-45e6-bf2e-ec8abee6fee1",
   "metadata": {},
   "source": [
    "__Helper function__: The utility function `U(...)` computes the utility of combinations of apples and oranges using a Cobb-Douglas utility model. A tuple holding the number of `(apples, oranges),` i.e., the combinations of objects we are searching over, and the $\\alpha$-vector are passed as arguments; the `utility` value is returned."
   ]
  },
  {
   "cell_type": "code",
   "execution_count": 5,
   "id": "5ca18d71-b870-4cd1-a70b-821265f5de38",
   "metadata": {
    "tags": []
   },
   "outputs": [],
   "source": [
    "function U(x::Tuple{Int,Int}, α::Array{Float64,1})::Float64\n",
    "    \n",
    "    # get the apples, and oranges \n",
    "    apples = x[1];\n",
    "    oranges = x[2];\n",
    "    \n",
    "    # compute the objective -\n",
    "    utility = (apples^α[1])*(oranges^α[2]);\n",
    "    \n",
    "    # return -\n",
    "    return utility;\n",
    "end;"
   ]
  },
  {
   "cell_type": "markdown",
   "id": "cca9647f-0576-4a9e-81bf-b01c0ec4ade0",
   "metadata": {},
   "source": [
    "## Problem 1: Compute the optimal number of Apples and Oranges to purchase\n",
    "Use a Cobb-Douglas utility function combined with a budget constraint to compute the optimal combination of apples and oranges that gives the maximum utility for the available budget. The Cobb-Douglas utility function for a collection of objects $x_{1},\\cdots,x_{n}$ is given by:\n",
    "$$\n",
    "\\begin{equation*}\n",
    "U(x_{1},\\cdots,x_{n}) = \\prod_{i=1}^{n}x_{i}^{\\alpha_{i}}\n",
    "\\end{equation*}\n",
    "$$\n",
    "where the $\\alpha_{i}\\geq{0}$ parameters are preference coefficents associated with each object. For this task, let's assume we have the following parameters:\n",
    "* The preference coefficient vector $\\alpha = (0.55,0.45)$ and the total budget is `50 USD`\n",
    "* The unit price of an `apple` is `0.98 USD` and the unit price of an `orange` is `1.49 USD`\n",
    "* Let `apples` be index `1` and `oranges` be index `2`\n",
    "* Assume the bounds run from `0 to 100` and the initial guess is `0.1*ones(2)`.\n",
    "\n",
    "### Strategy\n",
    "* Use [the `build(...)` method](src/Factory.jl) to construct an instance of [the `MySimpleCobbDouglasChoiceProblem` type](src/Types.jl) holding the lecture parameters, and set this to the `base_problem` variable.\n",
    "* Pass the `base_problem` problem to [the `solve(...)` function](src/Solve.jl), set the return to the variable `base_solution`."
   ]
  },
  {
   "cell_type": "code",
   "execution_count": 7,
   "id": "28507283-c742-476c-a301-404d18c21598",
   "metadata": {
    "tags": []
   },
   "outputs": [
    {
     "ename": "LoadError",
     "evalue": "MethodError: no method matching solve(::Nothing)\nThe function `solve` exists, but no method is defined for this combination of argument types.\n\n\u001b[0mClosest candidates are:\n\u001b[0m  solve(\u001b[91m::MyValueIterationModel\u001b[39m, \u001b[91m::MyMDPProblemModel\u001b[39m)\n\u001b[0m\u001b[90m   @\u001b[39m \u001b[35mMain\u001b[39m \u001b[90m~/Desktop/julia_work/PS5-CHEME-4800-5800-TEMPLATE-Fall-2024/src/\u001b[39m\u001b[90m\u001b[4mSolve.jl:40\u001b[24m\u001b[39m\n\u001b[0m  solve(\u001b[91m::MySimpleCobbDouglasChoiceProblem\u001b[39m)\n\u001b[0m\u001b[90m   @\u001b[39m \u001b[35mMain\u001b[39m \u001b[90m~/Desktop/julia_work/PS5-CHEME-4800-5800-TEMPLATE-Fall-2024/src/\u001b[39m\u001b[90m\u001b[4mSolve.jl:1\u001b[24m\u001b[39m\n",
     "output_type": "error",
     "traceback": [
      "MethodError: no method matching solve(::Nothing)\nThe function `solve` exists, but no method is defined for this combination of argument types.\n\n\u001b[0mClosest candidates are:\n\u001b[0m  solve(\u001b[91m::MyValueIterationModel\u001b[39m, \u001b[91m::MyMDPProblemModel\u001b[39m)\n\u001b[0m\u001b[90m   @\u001b[39m \u001b[35mMain\u001b[39m \u001b[90m~/Desktop/julia_work/PS5-CHEME-4800-5800-TEMPLATE-Fall-2024/src/\u001b[39m\u001b[90m\u001b[4mSolve.jl:40\u001b[24m\u001b[39m\n\u001b[0m  solve(\u001b[91m::MySimpleCobbDouglasChoiceProblem\u001b[39m)\n\u001b[0m\u001b[90m   @\u001b[39m \u001b[35mMain\u001b[39m \u001b[90m~/Desktop/julia_work/PS5-CHEME-4800-5800-TEMPLATE-Fall-2024/src/\u001b[39m\u001b[90m\u001b[4mSolve.jl:1\u001b[24m\u001b[39m\n",
      "",
      "Stacktrace:",
      " [1] top-level scope",
      "   @ In[7]:7"
     ]
    }
   ],
   "source": [
    "# initialize -\n",
    "α = [0.55, 0.45]; # coefficients\n",
    "c = [0.98, 1.49]; # price of x1 and x2\n",
    "total_budget = 50.0;\n",
    "\n",
    "# build my problem object -\n",
    "base = nothing\n",
    "\n",
    "# call the solve function. This will return a dictionary -\n",
    "base_solution = solve(base);"
   ]
  },
  {
   "cell_type": "code",
   "execution_count": 8,
   "id": "caaeb24b-0d4f-491e-83b3-ee11e9c00190",
   "metadata": {
    "tags": []
   },
   "outputs": [
    {
     "ename": "LoadError",
     "evalue": "UndefVarError: `base_solution` not defined in `Main`\nSuggestion: check for spelling errors or missing imports.",
     "output_type": "error",
     "traceback": [
      "UndefVarError: `base_solution` not defined in `Main`\nSuggestion: check for spelling errors or missing imports.",
      ""
     ]
    }
   ],
   "source": [
    "base_solution"
   ]
  },
  {
   "cell_type": "markdown",
   "id": "5c6985ab-a6ef-4b4f-a320-371c140bde07",
   "metadata": {},
   "source": [
    "What is the optimal combination of apples and oranges?"
   ]
  },
  {
   "cell_type": "code",
   "execution_count": 10,
   "id": "54f99fa0-70e2-4969-80f4-d5eeb4fd9ff8",
   "metadata": {
    "tags": []
   },
   "outputs": [
    {
     "ename": "LoadError",
     "evalue": "UndefVarError: `base_solution` not defined in `Main`\nSuggestion: check for spelling errors or missing imports.",
     "output_type": "error",
     "traceback": [
      "UndefVarError: `base_solution` not defined in `Main`\nSuggestion: check for spelling errors or missing imports.",
      "",
      "Stacktrace:",
      " [1] top-level scope",
      "   @ In[10]:1"
     ]
    }
   ],
   "source": [
    "optimal_apples = base_solution[\"argmax\"][1] |> x-> round(x,digits=0) |> Int\n",
    "optimal_oranges = base_solution[\"argmax\"][2] |> x-> round(x,digits=0) |> Int\n",
    "println(\"(apples, oranges) = ($(optimal_apples),$(optimal_oranges))\")"
   ]
  },
  {
   "cell_type": "markdown",
   "id": "939af937-2f6d-4a17-add7-e50909c87961",
   "metadata": {},
   "source": [
    "## Problem 2: Solve the Apples and Oranges problem as an MDP\n",
    "Resolve the apple versus oranges as a Markov Decision Process (MDP) problem. Here are the subtasks associated with this problem:\n",
    "* __Task 1__: Setup a $30\\times{30}$ grid, encoded as an instance of the `MyRectangularGridWorldModel` type\n",
    "  * `TODO`: Add a terminal state at the optimal combination of apples and oranges computed from Problem 1. Set the reward for this state as the optimal _integer_ fitness value calculated using the `U(...)` function defined above.\n",
    "  * `TODO`: Add the optimal combination of apples and oranges computed from Problem 1 to the `absorbing_state_set`  \n",
    "* __Task 2__: Use your `MyRectangularGridWorldModel` instance to generate the components of the `MDP,` namely, the reward function (or array) $R(s, a)$, and the model of the physics of the world in the transition function (or array) $T(s, s^{\\prime}, a)$.\n",
    "    * `TODO`: Modify the $R[s,a]$ array from `D11d` so that it uses the `U(...)` function for the default values. This is a type of reward shaping as we use the utility function model to give the agent data.\n",
    "    * `TODO`: Modify the $R[s,a]$ array to describe a _soft wall_, i.e., a region where the budget constraint is violated. Set the wall penalty as `-1000.` \n",
    "* __Task 3__: Use value iteration to estimate the optimal value function $U^{\\star}(s)$. \n",
    "    * `TODO`: For $(\\gamma,k_{\\max})$, extract the action-value function $Q(s, a)$ from the optimal optimal value function $U^{\\star}(s)$, and compute the optimal navigation policy $\\pi^{\\star}(s)$ from $Q(s,a)$"
   ]
  },
  {
   "cell_type": "markdown",
   "id": "d08abf7f-ed7d-4a72-be89-ddb403e1bc06",
   "metadata": {},
   "source": [
    "### Task 1: Build the Apples and Oranges world model\n",
    "We encoded the `rectangular grid world` using the `MyRectangularGridWorldModel` model, which we constructed using a `build(...)` method. Now, let's set up the data for the apples and oranges world, i.e., set up the states, actions, and rewards and then construct the world model. \n",
    "* `TODO`: Set values for the `number_of_rows` and `number_of_cols` variables, the `nactions` available to the agent, and the discount factor $\\gamma$.\n",
    "* `TODO`: Compute the number of states and set up the state set $\\mathcal{S}$ and the action set $\\mathcal{A}$"
   ]
  },
  {
   "cell_type": "code",
   "execution_count": 13,
   "id": "656b80a2-e389-49ed-ae8b-8e69b164d4a9",
   "metadata": {
    "tags": []
   },
   "outputs": [
    {
     "ename": "LoadError",
     "evalue": "ArgumentError: Cannot construct range from arguments:\nstart = 1\nstep = 1\nstop = nothing\nlength = nothing\nTry specifying more arguments.\n",
     "output_type": "error",
     "traceback": [
      "ArgumentError: Cannot construct range from arguments:\nstart = 1\nstep = 1\nstop = nothing\nlength = nothing\nTry specifying more arguments.\n",
      "",
      "Stacktrace:",
      " [1] range_error(start::Int64, step::Int64, stop::Nothing, length::Nothing)",
      "   @ Base ./range.jl:250",
      " [2] _range(start::Int64, step::Int64, stop::Nothing, len::Nothing)",
      "   @ Base ./range.jl:168",
      " [3] range(start::Int64; stop::Nothing, length::Nothing, step::Int64)",
      "   @ Base ./range.jl:148",
      " [4] top-level scope",
      "   @ In[13]:4"
     ]
    }
   ],
   "source": [
    "number_of_rows = nothing # TODO: fill me in\n",
    "number_of_cols = nothing # TODO: fill me in\n",
    "nactions = nothing; # TODO: fill me in\n",
    "nstates = nothing; # TODO: fill me in\n",
    "𝒮 = range(1,stop=nstates,step=1) |> collect;\n",
    "𝒜 = range(1,stop=nactions,step=1) |> collect;\n",
    "γ = 0.95;\n",
    "k_max = 250;"
   ]
  },
  {
   "cell_type": "markdown",
   "id": "b08ba399-75e0-4be9-88a9-e973151aa607",
   "metadata": {},
   "source": [
    "Next, set up a description of the rewards, the `rewards::Dict{Tuple{Int,Int}, Float64}` dictionary, which maps the $(x,y)$-coordinates to a reward value. \n",
    "  * `TODO`: Add a `terminal state` at the optimal combination of apples and oranges computed from Problem 1. Set the reward for this state to be the optimal _integer_ fitness value, using the `U(...)` function.\n",
    "  * `TODO`: Add the optimal combination of apples and oranges computed from Problem 1 to the `absorbing_state_set::Set{Tuple{Int,Int}}.` If we arrive at an absorbing state, we stay there."
   ]
  },
  {
   "cell_type": "code",
   "execution_count": 15,
   "id": "1a53a314-6fa1-4ac3-addd-36b1aad0076c",
   "metadata": {
    "tags": []
   },
   "outputs": [
    {
     "ename": "LoadError",
     "evalue": "UndefVarError: `optimal_apples` not defined in `Main`\nSuggestion: check for spelling errors or missing imports.",
     "output_type": "error",
     "traceback": [
      "UndefVarError: `optimal_apples` not defined in `Main`\nSuggestion: check for spelling errors or missing imports.",
      "",
      "Stacktrace:",
      " [1] top-level scope",
      "   @ In[15]:2"
     ]
    }
   ],
   "source": [
    "my_objective_value = nothing; # TODO: call the U(...) function\n",
    "rewards = Dict{Tuple{Int,Int}, Float64}()\n",
    "rewards[(optimal_apples, optimal_oranges)] = my_objective_value;\n",
    "\n",
    "# setup set of absorbing states -\n",
    "absorbing_state_set = Set{Tuple{Int,Int}}()\n",
    "push!(absorbing_state_set, (optimal_apples, optimal_oranges));"
   ]
  },
  {
   "cell_type": "markdown",
   "id": "7dc44527-806d-442a-b915-42a81d06890d",
   "metadata": {},
   "source": [
    "Finally, build an instance of the `MyRectangularGridWorldModel` type, which models the grid world. \n",
    "* Pass in the number of rows `nrows,` number of cols `ncols,` and our initial reward description in the `rewards` field into [the `build(...)` method](src/Factory.jl). Save the world model instance to the `world::MyRectangularGridWorldModel` variable"
   ]
  },
  {
   "cell_type": "code",
   "execution_count": 17,
   "id": "7a91e120-7ca3-48cf-8ee3-ff62ae899c2d",
   "metadata": {
    "tags": []
   },
   "outputs": [
    {
     "ename": "LoadError",
     "evalue": "MethodError: no method matching (::Colon)(::Int64, ::Nothing)\nThe function `Colon()` exists, but no method is defined for this combination of argument types.\n\n\u001b[0mClosest candidates are:\n\u001b[0m  (::Colon)(::T, ::Any, \u001b[91m::T\u001b[39m) where T<:Real\n\u001b[0m\u001b[90m   @\u001b[39m \u001b[90mBase\u001b[39m \u001b[90m\u001b[4mrange.jl:50\u001b[24m\u001b[39m\n\u001b[0m  (::Colon)(::A, ::Any, \u001b[91m::C\u001b[39m) where {A<:Real, C<:Real}\n\u001b[0m\u001b[90m   @\u001b[39m \u001b[90mBase\u001b[39m \u001b[90m\u001b[4mrange.jl:10\u001b[24m\u001b[39m\n\u001b[0m  (::Colon)(::T, ::Any, \u001b[91m::T\u001b[39m) where T\n\u001b[0m\u001b[90m   @\u001b[39m \u001b[90mBase\u001b[39m \u001b[90m\u001b[4mrange.jl:49\u001b[24m\u001b[39m\n\u001b[0m  ...\n",
     "output_type": "error",
     "traceback": [
      "MethodError: no method matching (::Colon)(::Int64, ::Nothing)\nThe function `Colon()` exists, but no method is defined for this combination of argument types.\n\n\u001b[0mClosest candidates are:\n\u001b[0m  (::Colon)(::T, ::Any, \u001b[91m::T\u001b[39m) where T<:Real\n\u001b[0m\u001b[90m   @\u001b[39m \u001b[90mBase\u001b[39m \u001b[90m\u001b[4mrange.jl:50\u001b[24m\u001b[39m\n\u001b[0m  (::Colon)(::A, ::Any, \u001b[91m::C\u001b[39m) where {A<:Real, C<:Real}\n\u001b[0m\u001b[90m   @\u001b[39m \u001b[90mBase\u001b[39m \u001b[90m\u001b[4mrange.jl:10\u001b[24m\u001b[39m\n\u001b[0m  (::Colon)(::T, ::Any, \u001b[91m::T\u001b[39m) where T\n\u001b[0m\u001b[90m   @\u001b[39m \u001b[90mBase\u001b[39m \u001b[90m\u001b[4mrange.jl:49\u001b[24m\u001b[39m\n\u001b[0m  ...\n",
      "",
      "Stacktrace:",
      " [1] build(modeltype::Type{MyRectangularGridWorldModel}, data::@NamedTuple{nrows::Nothing, ncols::Nothing, rewards::Dict{Tuple{Int64, Int64}, Float64}})",
      "   @ Main ~/Desktop/julia_work/PS5-CHEME-4800-5800-TEMPLATE-Fall-2024/src/Factory.jl:51",
      " [2] top-level scope",
      "   @ In[17]:1"
     ]
    }
   ],
   "source": [
    "world = build(MyRectangularGridWorldModel, \n",
    "    (nrows = number_of_rows, ncols = number_of_cols, rewards = rewards));"
   ]
  },
  {
   "cell_type": "markdown",
   "id": "9cf02232-2971-48a3-a8a1-90e5619d1299",
   "metadata": {},
   "source": [
    "### Task 2: Generate the components of the MDP problem\n",
    "The MDP problem requires the reward function (or array) $R(s, a)$ and the transition function (or array) $T(s, s^{\\prime}, a)$. Let's construct these from our grid world model instance, starting with the $R(s, a)$ reward function.\n",
    "\n",
    "#### Rewards $R(s,a)$\n",
    "We'll encode the reward function as a $\\dim\\mathcal{S}\\times\\dim\\mathcal{A}$ array, which holds the reward values for being in state $s\\in\\mathcal{S}$ and taking action $a\\in\\mathcal{A}$. After initializing the reward `R::Array{Float64,2}` array with zeros, populate the non-zero values of $R(s, a)$ using a nested [for loop](https://docs.julialang.org/en/v1/base/base/#for). During each outer loop iteration, we select a state $s\\in\\mathcal{S}$ and the inner loop iterates over actions $a\\in\\mathcal{A}$.\n",
    "\n",
    "Given a Select a state `s,` an action `a`, and a move $\\Delta$:\n",
    "* Compute the new position resulting from implementing action `a` and store this in the `new_position` variable. If the `new_position`$\\in\\mathcal{S}$ is in our initial `rewards` dictionary, we use that reward value. If we are still in the world but not in a special location, we set the reward to `-1`. If `new_position`$\\notin\\mathcal{S}$, i.e., the `new_position` is a space outside the grid, we set a penalty of `-50000.0`.\n",
    "\n",
    "#### Modifications\n",
    "This is similar to `D11d`, but with a few modifications:\n",
    "* `TODO`: Modify the $R[s,a]$ array from `D11d` so that it uses the `U(...)` function for the default values. This is a type of reward shaping.\n",
    "* `TODO`: Modify the $R[s, a]$ array to describe a `soft wall,` i.e., a region where the budget constraint is violated. Set the `wall` penalty as `-1000`. Allow up to a `1 USD` violation of the budget constraint"
   ]
  },
  {
   "cell_type": "code",
   "execution_count": 19,
   "id": "288ab213-85ac-47b8-966e-a5a5d1e88706",
   "metadata": {
    "tags": []
   },
   "outputs": [
    {
     "ename": "LoadError",
     "evalue": "MethodError: no method matching zeros(::Nothing, ::Nothing)\nThe function `zeros` exists, but no method is defined for this combination of argument types.\n\n\u001b[0mClosest candidates are:\n\u001b[0m  zeros(\u001b[91m::Union{Integer, AbstractUnitRange}...\u001b[39m)\n\u001b[0m\u001b[90m   @\u001b[39m \u001b[90mBase\u001b[39m \u001b[90m\u001b[4marray.jl:573\u001b[24m\u001b[39m\n\u001b[0m  zeros(\u001b[91m::Type{T}\u001b[39m, \u001b[91m::Tuple{}\u001b[39m) where T\n\u001b[0m\u001b[90m   @\u001b[39m \u001b[90mBase\u001b[39m \u001b[90m\u001b[4marray.jl:582\u001b[24m\u001b[39m\n\u001b[0m  zeros(\u001b[91m::Type{T}\u001b[39m, \u001b[91m::NTuple{N, Integer}\u001b[39m) where {T, N}\n\u001b[0m\u001b[90m   @\u001b[39m \u001b[90mBase\u001b[39m \u001b[90m\u001b[4marray.jl:577\u001b[24m\u001b[39m\n\u001b[0m  ...\n",
     "output_type": "error",
     "traceback": [
      "MethodError: no method matching zeros(::Nothing, ::Nothing)\nThe function `zeros` exists, but no method is defined for this combination of argument types.\n\n\u001b[0mClosest candidates are:\n\u001b[0m  zeros(\u001b[91m::Union{Integer, AbstractUnitRange}...\u001b[39m)\n\u001b[0m\u001b[90m   @\u001b[39m \u001b[90mBase\u001b[39m \u001b[90m\u001b[4marray.jl:573\u001b[24m\u001b[39m\n\u001b[0m  zeros(\u001b[91m::Type{T}\u001b[39m, \u001b[91m::Tuple{}\u001b[39m) where T\n\u001b[0m\u001b[90m   @\u001b[39m \u001b[90mBase\u001b[39m \u001b[90m\u001b[4marray.jl:582\u001b[24m\u001b[39m\n\u001b[0m  zeros(\u001b[91m::Type{T}\u001b[39m, \u001b[91m::NTuple{N, Integer}\u001b[39m) where {T, N}\n\u001b[0m\u001b[90m   @\u001b[39m \u001b[90mBase\u001b[39m \u001b[90m\u001b[4marray.jl:577\u001b[24m\u001b[39m\n\u001b[0m  ...\n",
      "",
      "Stacktrace:",
      " [1] top-level scope",
      "   @ In[19]:1"
     ]
    }
   ],
   "source": [
    "R = zeros(nstates, nactions);\n",
    "fill!(R, 0.0)\n",
    "\n",
    "# Update R: Fill in data from the world model\n",
    "for s ∈ 𝒮\n",
    "    for a ∈ 𝒜\n",
    "        \n",
    "        Δ = world.moves[a];\n",
    "        current_position = world.coordinates[s]\n",
    "        new_position =  current_position .+ Δ\n",
    "        \n",
    "        # TODO: fill me in\n",
    "    end\n",
    "end\n",
    "\n",
    "# Update R: setup soft walls. These will be our budget constraints\n",
    "soft_wall_set = Set{Tuple{Int,Int}}();\n",
    "for s ∈ 𝒮\n",
    "    \n",
    "    # get the position -\n",
    "    current_position = world.coordinates[s]\n",
    "    \n",
    "    # TODO: current_position violate the budget? (with a 1 USD grace)?\n",
    "    # TODO: Hint: think about this like a penalty function\n",
    "    # if yes, store this position in the soft_wall_set\n",
    "end\n",
    "\n",
    "# Update R: Do we drive off the world?\n",
    "for s ∈ 𝒮\n",
    "    current_position = world.coordinates[s]\n",
    "    for a ∈ 𝒜\n",
    "        Δ = world.moves[a];\n",
    "        new_position =  current_position .+ Δ\n",
    "        \n",
    "        if (in(new_position, soft_wall_set) == true)\n",
    "          R[s,a] = -1000.0  \n",
    "        end\n",
    "    end\n",
    "end"
   ]
  },
  {
   "cell_type": "markdown",
   "id": "1164cc27-d821-469c-bb3d-0ada67b2ff0c",
   "metadata": {},
   "source": [
    "#### Transition $T(s, s^{\\prime},a)$\n",
    "Next, build the transition function $T(s,s^{\\prime},a)$. We'll encode this as a $\\dim\\mathcal{S}\\times\\dim\\mathcal{S}\\times\\dim\\mathcal{A}$ [multidimension array](https://docs.julialang.org/en/v1/manual/arrays/) and populate it using nested `for` loops. I've already done this, so back away slowly and move on to the next task.\n",
    "* The `outer` loop we will iterate over actions. For every $a\\in\\mathcal{A}$ will get the move associated with that action and store it in the `Δ::Tuple.`\n",
    "* In the `inner` loop, we will iterate over states $s\\in\\mathcal{S}$. We compute a `new_position` resulting from implementing action $a$ and check if `new_position`$\\in\\mathcal{S}$. If `new_position` is in the world, and `current_position` is _not_ an `absorbing state` we set $s^{\\prime}\\leftarrow$`world.states[new_position]`, and `T[s, s′,  a] = 1.0`\n",
    "* However, if the `new_position` is outside of the grid (or we are jumping from an `absorbing` state), we set `T[s, s,  a] = 1.0`, i.e., the probability that we stay in `s` if we take action `a` is `1.0`."
   ]
  },
  {
   "cell_type": "code",
   "execution_count": 21,
   "id": "923e659b-22c8-4a3e-ab86-077b91e489b5",
   "metadata": {
    "tags": []
   },
   "outputs": [
    {
     "ename": "LoadError",
     "evalue": "MethodError: no method matching Array{Float64, 3}(::UndefInitializer, ::Nothing, ::Nothing, ::Nothing)\nThe type `Array{Float64, 3}` exists, but no method is defined for this combination of argument types when trying to construct it.\n\n\u001b[0mClosest candidates are:\n\u001b[0m  Array{T, N}(\u001b[91m::Nothing\u001b[39m, ::Any...) where {T, N}\n\u001b[0m\u001b[90m   @\u001b[39m \u001b[90mBase\u001b[39m \u001b[90m\u001b[4mbaseext.jl:42\u001b[24m\u001b[39m\n\u001b[0m  Array{T, N}(\u001b[91m::Missing\u001b[39m, ::Any...) where {T, N}\n\u001b[0m\u001b[90m   @\u001b[39m \u001b[90mBase\u001b[39m \u001b[90m\u001b[4mbaseext.jl:43\u001b[24m\u001b[39m\n\u001b[0m  Array{T, 3}(::UndefInitializer, \u001b[91m::Tuple{Int64, Int64, Int64}\u001b[39m) where T\n\u001b[0m\u001b[90m   @\u001b[39m \u001b[90mCore\u001b[39m \u001b[90m\u001b[4mboot.jl:593\u001b[24m\u001b[39m\n\u001b[0m  ...\n",
     "output_type": "error",
     "traceback": [
      "MethodError: no method matching Array{Float64, 3}(::UndefInitializer, ::Nothing, ::Nothing, ::Nothing)\nThe type `Array{Float64, 3}` exists, but no method is defined for this combination of argument types when trying to construct it.\n\n\u001b[0mClosest candidates are:\n\u001b[0m  Array{T, N}(\u001b[91m::Nothing\u001b[39m, ::Any...) where {T, N}\n\u001b[0m\u001b[90m   @\u001b[39m \u001b[90mBase\u001b[39m \u001b[90m\u001b[4mbaseext.jl:42\u001b[24m\u001b[39m\n\u001b[0m  Array{T, N}(\u001b[91m::Missing\u001b[39m, ::Any...) where {T, N}\n\u001b[0m\u001b[90m   @\u001b[39m \u001b[90mBase\u001b[39m \u001b[90m\u001b[4mbaseext.jl:43\u001b[24m\u001b[39m\n\u001b[0m  Array{T, 3}(::UndefInitializer, \u001b[91m::Tuple{Int64, Int64, Int64}\u001b[39m) where T\n\u001b[0m\u001b[90m   @\u001b[39m \u001b[90mCore\u001b[39m \u001b[90m\u001b[4mboot.jl:593\u001b[24m\u001b[39m\n\u001b[0m  ...\n",
      "",
      "Stacktrace:",
      " [1] top-level scope",
      "   @ In[21]:1"
     ]
    }
   ],
   "source": [
    "# --- DO NOT CHANGE ME .... STEP AWAY FROM YOUR KEYBOARD --------------- #\n",
    "T = Array{Float64,3}(undef, nstates, nstates, nactions);\n",
    "fill!(T, 0.0)\n",
    "for a ∈ 𝒜\n",
    "    \n",
    "    Δ = world.moves[a];\n",
    "    \n",
    "    for s ∈ 𝒮\n",
    "        current_position = world.coordinates[s]\n",
    "        new_position =  current_position .+ Δ\n",
    "        if (haskey(world.states, new_position) == true && \n",
    "                in(current_position, absorbing_state_set) == false)\n",
    "            s′ = world.states[new_position];\n",
    "            T[s, s′,  a] = 1.0\n",
    "        else\n",
    "            T[s, s,  a] = 1.0\n",
    "        end\n",
    "    end\n",
    "end\n",
    "# --------------------------------------------------------------------- #"
   ]
  },
  {
   "cell_type": "markdown",
   "id": "84cb5c6a-255b-41d0-aebd-4c8695bdbb95",
   "metadata": {},
   "source": [
    "## Task 3: Use value iteration to estimate the optimal value function $U^{\\star}(s)$.\n",
    "In Task 3, we construct a Markov Decision Process (MDP) instance and solve the problem using value iteration. The solution of the value iteration procedure is then used to estimate the optimal policy $\\pi^{\\star}(s)$. Toward this task:\n",
    "* Construct an instance of the `MyMDPProblemModel,` which encodes the data required to solve the MDP problem. Pass the states `𝒮,` the actions `𝒜,` the transition matrix `T,` the reward matrix `R,` and the discount factor `γ` into [the `build(...)` method](src/Factory.jl). We store the MDP model in the `m::MyMDPProblemModel` variable:"
   ]
  },
  {
   "cell_type": "code",
   "execution_count": 24,
   "id": "bee066c6-f228-4d4d-a9ad-079cb6995b28",
   "metadata": {
    "tags": []
   },
   "outputs": [
    {
     "ename": "LoadError",
     "evalue": "UndefVarError: `𝒮` not defined in `Main`\nSuggestion: check for spelling errors or missing imports.",
     "output_type": "error",
     "traceback": [
      "UndefVarError: `𝒮` not defined in `Main`\nSuggestion: check for spelling errors or missing imports.",
      "",
      "Stacktrace:",
      " [1] top-level scope",
      "   @ In[24]:1"
     ]
    }
   ],
   "source": [
    "m = build(MyMDPProblemModel, (𝒮 = 𝒮, 𝒜 = 𝒜, T = T, R = R, γ = γ));"
   ]
  },
  {
   "cell_type": "markdown",
   "id": "eb505c65-f9a2-4e9a-874b-8a7b06f5aec5",
   "metadata": {},
   "source": [
    "Next, call [the `solve(...)` method](src/Solve.jl) by passing a `value_iteration_model` instance and our MDP model `m::MyMDPProblemModel` as arguments. [The `solve(...)` method](src/Solve.jl) iteratively computes the optimal value function $U^{\\star}(s)$ and returns it in an instance of the `MyValueFunctionPolicy` type. "
   ]
  },
  {
   "cell_type": "code",
   "execution_count": 26,
   "id": "2e41d060-5c23-4e9f-9c11-af63fa3a33f1",
   "metadata": {
    "tags": []
   },
   "outputs": [
    {
     "ename": "LoadError",
     "evalue": "UndefVarError: `k_max` not defined in `Main`\nSuggestion: check for spelling errors or missing imports.",
     "output_type": "error",
     "traceback": [
      "UndefVarError: `k_max` not defined in `Main`\nSuggestion: check for spelling errors or missing imports.",
      "",
      "Stacktrace:",
      " [1] top-level scope",
      "   @ In[26]:1"
     ]
    }
   ],
   "source": [
    "solution = let\n",
    "    \n",
    "    value_iteration_model = MyValueIterationModel(k_max); # takes k_max as argument\n",
    "    solution = nothing; # TODO: update me!\n",
    "\n",
    "    # solution -\n",
    "    solution\n",
    "end"
   ]
  },
  {
   "cell_type": "markdown",
   "id": "77f5d41c-b7c2-4ed4-bf8d-ed40a9eebdd7",
   "metadata": {},
   "source": [
    "Now, we extract the action-value function $Q(s, a)$ from the optimal optimal value function $U^{\\star}(s)$. We can do this using [the `Q(...)` function](src/Compute.jl), which takes `m::MyMDPProblemModel` and the `solution::MyValueFunctionPolicy.` Save the optimal $Q(s,a)$ in the `my_Q::Array{Float64,2}` variable:"
   ]
  },
  {
   "cell_type": "code",
   "execution_count": 28,
   "id": "3c091d3c-e3b9-4bd3-8195-8220d58fecce",
   "metadata": {
    "tags": []
   },
   "outputs": [
    {
     "ename": "LoadError",
     "evalue": "UndefVarError: `m` not defined in `Main`\nSuggestion: check for spelling errors or missing imports.",
     "output_type": "error",
     "traceback": [
      "UndefVarError: `m` not defined in `Main`\nSuggestion: check for spelling errors or missing imports.",
      "",
      "Stacktrace:",
      " [1] top-level scope",
      "   @ In[28]:1"
     ]
    }
   ],
   "source": [
    "my_Q = Q(m, solution.U)"
   ]
  },
  {
   "cell_type": "markdown",
   "id": "a53d8d92-5880-49d6-910d-68d99da2a1fb",
   "metadata": {},
   "source": [
    "Finally, compute the optimal navigation policy $\\pi^{\\star}(s)$ from $Q(s,a)$ using [the `policy(...)` function](src/Compute.jl). Save this in the `my_π::Array{Int64,1}` variable:"
   ]
  },
  {
   "cell_type": "code",
   "execution_count": 30,
   "id": "6468d7ad-fac1-422b-b7f6-4cf7619a0544",
   "metadata": {
    "tags": []
   },
   "outputs": [
    {
     "ename": "LoadError",
     "evalue": "UndefVarError: `my_Q` not defined in `Main`\nSuggestion: check for spelling errors or missing imports.",
     "output_type": "error",
     "traceback": [
      "UndefVarError: `my_Q` not defined in `Main`\nSuggestion: check for spelling errors or missing imports.",
      "",
      "Stacktrace:",
      " [1] top-level scope",
      "   @ In[30]:1"
     ]
    }
   ],
   "source": [
    "my_π = policy(my_Q);"
   ]
  },
  {
   "cell_type": "markdown",
   "id": "c7aaf91e-e201-43c2-8b84-d37a53df9c57",
   "metadata": {},
   "source": [
    "### Visualize the optimal policy\n",
    "`Unhide` the code block below to see how we visualize the decision maker's path through the apples versus oranges space to arrive at the optimal solution. This code to visualize the optimal policy $\\pi^{\\star}(s)$ was modified from `D11d.`\n",
    "\n",
    "Specify an initial starting tuple `(apples,oranges)` in the `initial_site` variable:"
   ]
  },
  {
   "cell_type": "code",
   "execution_count": 177,
   "id": "676da5ae-29f8-49ec-a2a5-d66efb4119f6",
   "metadata": {},
   "outputs": [],
   "source": [
    "initial_site = (1,10); # horizontal, vertical"
   ]
  },
  {
   "cell_type": "code",
   "execution_count": 173,
   "id": "4edb0539-29cb-4b00-a58e-2b4a370765bc",
   "metadata": {
    "tags": []
   },
   "outputs": [
    {
     "ename": "LoadError",
     "evalue": "UndefVarError: `world` not defined in `Main`\nSuggestion: check for spelling errors or missing imports.",
     "output_type": "error",
     "traceback": [
      "UndefVarError: `world` not defined in `Main`\nSuggestion: check for spelling errors or missing imports.",
      "",
      "Stacktrace:",
      " [1] top-level scope",
      "   @ ./In[173]:5"
     ]
    }
   ],
   "source": [
    "let\n",
    "    # draw the path -\n",
    "    p = plot();\n",
    "    hit_absorbing_state = false\n",
    "    s = world.states[initial_site];\n",
    "    visited_sites = Set{Tuple{Int,Int}}();\n",
    "    push!(visited_sites, initial_site);\n",
    "    \n",
    "    while (hit_absorbing_state == false)\n",
    "        current_position = world.coordinates[s]\n",
    "        a = my_π[s];\n",
    "        Δ = world.moves[a];\n",
    "        new_position =  current_position .+ Δ\n",
    "        scatter!([current_position[1]],[current_position[2]], label=\"\", showaxis=:false, msc=:black, c=:blue)\n",
    "        plot!([current_position[1], new_position[1]],[current_position[2], new_position[2]], label=\"\", arrow=true, lw=1, c=:red)\n",
    "        \n",
    "        if (in(new_position, absorbing_state_set) == true || in(new_position, visited_sites) == true)\n",
    "            hit_absorbing_state = true;\n",
    "        else\n",
    "            s = world.states[new_position];\n",
    "            push!(visited_sites, new_position);\n",
    "        end\n",
    "    end\n",
    "    \n",
    "    # draw the grid -\n",
    "    for s ∈ 𝒮\n",
    "        current_position = world.coordinates[s]\n",
    "        a = my_π[s];\n",
    "        Δ = world.moves[a];\n",
    "        new_position =  current_position .+ Δ\n",
    "        \n",
    "        if (haskey(rewards, current_position) == true && rewards[current_position] == my_objective_value)\n",
    "            scatter!([current_position[1]],[current_position[2]], label=\"Optimal: $(current_position)\", c=:green, ms=4, legend=:bottomleft)\n",
    "        elseif (in(current_position, soft_wall_set) == true)\n",
    "            scatter!([current_position[1]],[current_position[2]], label=\"\", showaxis=:false, c=:gray69, ms=4)\n",
    "        else\n",
    "            scatter!([current_position[1]],[current_position[2]], label=\"\", showaxis=:false, msc=:gray50, c=:white)\n",
    "        end\n",
    "    end\n",
    "    xlabel!(\"Number of Apples\",fontsize=18)\n",
    "    ylabel!(\"Number of Oranges\",fontsize=18)\n",
    "    current()\n",
    "end"
   ]
  },
  {
   "cell_type": "code",
   "execution_count": null,
   "id": "9ac598fb-b8f9-4f91-afe4-014230de4f85",
   "metadata": {},
   "outputs": [],
   "source": []
  }
 ],
 "metadata": {
  "kernelspec": {
   "display_name": "Julia 1.11.1",
   "language": "julia",
   "name": "julia-1.11"
  },
  "language_info": {
   "file_extension": ".jl",
   "mimetype": "application/julia",
   "name": "julia",
   "version": "1.11.1"
  }
 },
 "nbformat": 4,
 "nbformat_minor": 5
}
